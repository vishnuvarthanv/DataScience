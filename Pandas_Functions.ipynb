{
  "nbformat": 4,
  "nbformat_minor": 0,
  "metadata": {
    "colab": {
      "name": "Pandas_Functions.ipynb",
      "provenance": [],
      "collapsed_sections": [
        "apj6si2KhMrH"
      ],
      "authorship_tag": "ABX9TyMiV2N94QUy73mwye75KKy2",
      "include_colab_link": true
    },
    "kernelspec": {
      "name": "python3",
      "display_name": "Python 3"
    },
    "language_info": {
      "name": "python"
    }
  },
  "cells": [
    {
      "cell_type": "markdown",
      "metadata": {
        "id": "view-in-github",
        "colab_type": "text"
      },
      "source": [
        "<a href=\"https://colab.research.google.com/github/vishnuvarthanv/DataScience/blob/master/Pandas_Functions.ipynb\" target=\"_parent\"><img src=\"https://colab.research.google.com/assets/colab-badge.svg\" alt=\"Open In Colab\"/></a>"
      ]
    },
    {
      "cell_type": "markdown",
      "source": [
        "#Python Functions"
      ],
      "metadata": {
        "id": "GNZBBpVXZAVk"
      }
    },
    {
      "cell_type": "code",
      "source": [
        "def add_num(a, b):\n",
        " return a+b"
      ],
      "metadata": {
        "id": "rinlt-oeZZ4y"
      },
      "execution_count": null,
      "outputs": []
    },
    {
      "cell_type": "code",
      "source": [
        "add_num(2,3)"
      ],
      "metadata": {
        "colab": {
          "base_uri": "https://localhost:8080/"
        },
        "id": "LEqe0SwDZdNQ",
        "outputId": "de477c4d-1a9e-41ba-a48c-23c68c2eb079"
      },
      "execution_count": null,
      "outputs": [
        {
          "output_type": "execute_result",
          "data": {
            "text/plain": [
              "5"
            ]
          },
          "metadata": {},
          "execution_count": 2
        }
      ]
    },
    {
      "cell_type": "markdown",
      "source": [
        "## zip\n",
        "\n",
        "The zip(*iterables) function returns an iterator of tuples, where the i tuple contains the i element from each of the iterables. The length of the tuples is equal to the number of iterables passed to the function. In the following code block, two lists are passed to the zip function, obtaining an iterator of tuples each of length two."
      ],
      "metadata": {
        "id": "ezg_Zdmce0AS"
      }
    },
    {
      "cell_type": "code",
      "source": [
        "# list of products\n",
        "products = ['table', 'chair', 'sofa', 'bed', 'lamp']\n",
        "\n",
        "# list of prices\n",
        "prices = [50, 20, 200, 150, 10]"
      ],
      "metadata": {
        "id": "Ib9fcndDe0OJ"
      },
      "execution_count": null,
      "outputs": []
    },
    {
      "cell_type": "code",
      "source": [
        "zip(products, prices)"
      ],
      "metadata": {
        "colab": {
          "base_uri": "https://localhost:8080/"
        },
        "id": "IWcPxyv6e0Rg",
        "outputId": "53e9a168-5e58-43a6-97ba-04fd1af38e39"
      },
      "execution_count": null,
      "outputs": [
        {
          "output_type": "execute_result",
          "data": {
            "text/plain": [
              "<zip at 0x7fc2cbf579b0>"
            ]
          },
          "metadata": {},
          "execution_count": 33
        }
      ]
    },
    {
      "cell_type": "code",
      "source": [
        "#list(zip(products, prices))"
      ],
      "metadata": {
        "id": "quswmfHJfdB7"
      },
      "execution_count": null,
      "outputs": []
    },
    {
      "cell_type": "code",
      "source": [
        "\n",
        "for product, price in zip(products, prices):\n",
        "    print('Product: {}, Price: {}'.format(product, price))"
      ],
      "metadata": {
        "colab": {
          "base_uri": "https://localhost:8080/"
        },
        "id": "3Klqh-B1e6xz",
        "outputId": "6a0b11d3-3471-4d6f-f716-d8f686790b7b"
      },
      "execution_count": null,
      "outputs": [
        {
          "output_type": "stream",
          "name": "stdout",
          "text": [
            "Product: table, Price: 50\n",
            "Product: chair, Price: 20\n",
            "Product: sofa, Price: 200\n",
            "Product: bed, Price: 150\n",
            "Product: lamp, Price: 10\n"
          ]
        }
      ]
    },
    {
      "cell_type": "markdown",
      "source": [
        "## filter\n",
        "\n",
        "The filter(function, iterable) function takes a function and an iterable as inputs, returning the elements from the iterable for which the function returns True. As with the map function, the filter function does not only accept regular functions (def keyword), but also built-in, and anonymous functions."
      ],
      "metadata": {
        "id": "i1-1ttTAfpIV"
      }
    },
    {
      "cell_type": "code",
      "source": [
        "# list of numbers\n",
        "numbers = [1, 2, 3, 4, 5, 6]\n",
        "\n",
        "# get odd numbers\n",
        "filter(lambda x: x % 2, numbers)"
      ],
      "metadata": {
        "colab": {
          "base_uri": "https://localhost:8080/"
        },
        "id": "3WIj5hFme61Y",
        "outputId": "40df9de8-351d-494d-c101-3c1d1e85e347"
      },
      "execution_count": null,
      "outputs": [
        {
          "output_type": "execute_result",
          "data": {
            "text/plain": [
              "<filter at 0x7fc2cc095890>"
            ]
          },
          "metadata": {},
          "execution_count": 38
        }
      ]
    },
    {
      "cell_type": "code",
      "source": [
        "for value in filter(lambda x: x % 2, numbers):\n",
        "    print('value: {}'.format(value))"
      ],
      "metadata": {
        "colab": {
          "base_uri": "https://localhost:8080/"
        },
        "id": "r17w-Te8e64E",
        "outputId": "51c03c1c-079c-4ad0-b2b0-af1a5fb82d0c"
      },
      "execution_count": null,
      "outputs": [
        {
          "output_type": "stream",
          "name": "stdout",
          "text": [
            "value: 1\n",
            "value: 3\n",
            "value: 5\n"
          ]
        }
      ]
    },
    {
      "cell_type": "code",
      "source": [
        "# list of cities\n",
        "cities = ('Madrid', 'Valencia', 'Barcelona', 'Munich', 'Stuttgart')\n",
        "\n",
        "# cities that start with M or V\n",
        "tuple(filter(lambda x: x.startswith(('M', 'V')), cities))\n",
        "# ('Madrid', 'Valencia', 'Munich')"
      ],
      "metadata": {
        "colab": {
          "base_uri": "https://localhost:8080/"
        },
        "id": "51ep3XUJe66o",
        "outputId": "04d3d4dd-c7d2-4540-d122-2ab1ba7d615c"
      },
      "execution_count": null,
      "outputs": [
        {
          "output_type": "execute_result",
          "data": {
            "text/plain": [
              "('Madrid', 'Valencia', 'Munich')"
            ]
          },
          "metadata": {},
          "execution_count": 40
        }
      ]
    },
    {
      "cell_type": "code",
      "source": [
        ""
      ],
      "metadata": {
        "id": "Cq2PQrQegQmi"
      },
      "execution_count": null,
      "outputs": []
    },
    {
      "cell_type": "code",
      "source": [
        ""
      ],
      "metadata": {
        "id": "zbfyyihTgQp0"
      },
      "execution_count": null,
      "outputs": []
    },
    {
      "cell_type": "code",
      "source": [
        ""
      ],
      "metadata": {
        "id": "vM6fGEyNgQs7"
      },
      "execution_count": null,
      "outputs": []
    },
    {
      "cell_type": "code",
      "source": [
        ""
      ],
      "metadata": {
        "id": "-btntYUfgQxD"
      },
      "execution_count": null,
      "outputs": []
    },
    {
      "cell_type": "markdown",
      "source": [
        "## reduce()\n",
        "\n",
        "Python's reduce() function iterates over each item in a list, or any other iterable data type, and returns a single value. It's one of the methods of the built-in functools class of Python."
      ],
      "metadata": {
        "id": "s4igSWW5ZRL-"
      }
    },
    {
      "cell_type": "code",
      "source": [
        "from functools import reduce\n",
        "list = [2,3,4,5]\n",
        "reduce(add_num, list)"
      ],
      "metadata": {
        "colab": {
          "base_uri": "https://localhost:8080/"
        },
        "id": "5jF2DlavZDyw",
        "outputId": "abb3d970-a3b4-4947-858e-e4f0a8866b6a"
      },
      "execution_count": null,
      "outputs": [
        {
          "output_type": "execute_result",
          "data": {
            "text/plain": [
              "14"
            ]
          },
          "metadata": {},
          "execution_count": 3
        }
      ]
    },
    {
      "cell_type": "markdown",
      "source": [
        "##map()\n",
        "\n",
        "Like reduce(), the map() function lets you iterate over each item in an iterable. However, instead of producing a single result, map() operates on each item independently.\n",
        "\n",
        "Ultimately, you can perform mathematical operations on two or more lists using the map() function. You can even use it to manipulate an array containing any data type."
      ],
      "metadata": {
        "id": "i5IrXrr7bsu8"
      }
    },
    {
      "cell_type": "code",
      "source": [
        "b = [1, 3, 4, 6]\n",
        "a = [1, 65, 7, 9]\n",
        "\n",
        "# Pass the function and the two lists into the built-in map() function: \n",
        "a = sum(map(add_num, b, a))\n",
        "print(a) "
      ],
      "metadata": {
        "colab": {
          "base_uri": "https://localhost:8080/"
        },
        "id": "b_YgjPxlbtCG",
        "outputId": "664bde32-b6aa-44ec-9e50-a99cf9a6b588"
      },
      "execution_count": null,
      "outputs": [
        {
          "output_type": "stream",
          "name": "stdout",
          "text": [
            "96\n"
          ]
        }
      ]
    },
    {
      "cell_type": "markdown",
      "source": [
        "## split()\n",
        "\n",
        "The split() function breaks a string based on set criteria. You can use it to split a string value from a web form. Or you can even use it to count the number of words in a piece of text."
      ],
      "metadata": {
        "id": "AqbumLt4aBgF"
      }
    },
    {
      "cell_type": "code",
      "source": [
        "words = \"column1 column2 column3\"\n",
        "words = words.split(\" \")\n",
        "print(words)"
      ],
      "metadata": {
        "colab": {
          "base_uri": "https://localhost:8080/"
        },
        "id": "trCgAehqZWOo",
        "outputId": "d58f2349-c9c7-4809-a3f4-999dadb0122e"
      },
      "execution_count": null,
      "outputs": [
        {
          "output_type": "stream",
          "name": "stdout",
          "text": [
            "['column1', 'column2', 'column3']\n"
          ]
        }
      ]
    },
    {
      "cell_type": "markdown",
      "source": [
        "## enumerate()\n",
        "\n",
        "The enumerate() function returns the length of an iterable and loops through its items simultaneously. Thus, while printing each item in an iterable data type, it simultaneously outputs its index.\n",
        "\n",
        "Assume that you want a user to see the list of items available in your database. You can pass them into a list and use the enumerate() function to return this as a numbered list."
      ],
      "metadata": {
        "id": "3_7MOGkEaMPT"
      }
    },
    {
      "cell_type": "code",
      "source": [
        "fruits = [\"grape\", \"apple\", \"mango\"]\n",
        "for i, j in enumerate(fruits):\n",
        " print(i, j)"
      ],
      "metadata": {
        "colab": {
          "base_uri": "https://localhost:8080/"
        },
        "id": "Mng0PUXkZWR9",
        "outputId": "540a3351-313c-4dc0-94ae-7a4e2dc096ae"
      },
      "execution_count": null,
      "outputs": [
        {
          "output_type": "stream",
          "name": "stdout",
          "text": [
            "0 grape\n",
            "1 apple\n",
            "2 mango\n"
          ]
        }
      ]
    },
    {
      "cell_type": "code",
      "source": [
        "[(i,j) for i, j in enumerate(fruits)]"
      ],
      "metadata": {
        "colab": {
          "base_uri": "https://localhost:8080/"
        },
        "id": "fDvP0JlyZWVb",
        "outputId": "3162a039-b3be-4ba1-e78b-62e0af178dcd"
      },
      "execution_count": null,
      "outputs": [
        {
          "output_type": "execute_result",
          "data": {
            "text/plain": [
              "[(0, 'grape'), (1, 'apple'), (2, 'mango')]"
            ]
          },
          "metadata": {},
          "execution_count": 9
        }
      ]
    },
    {
      "cell_type": "markdown",
      "source": [
        "## eval()\n",
        "\n",
        "Python's eval() function lets you perform mathematical operations on integers or floats, even in their string forms. It's often helpful if a mathematical calculation is in a string format."
      ],
      "metadata": {
        "id": "vQ8CQZW6avU0"
      }
    },
    {
      "cell_type": "code",
      "source": [
        "g = \"(4 * 5)/4\"\n",
        "d = eval(g)\n",
        "print(d)"
      ],
      "metadata": {
        "colab": {
          "base_uri": "https://localhost:8080/"
        },
        "id": "JLwTYscFZWYh",
        "outputId": "3c5ff43b-3653-44db-c4a6-3a285b8c7790"
      },
      "execution_count": null,
      "outputs": [
        {
          "output_type": "stream",
          "name": "stdout",
          "text": [
            "5.0\n"
          ]
        }
      ]
    },
    {
      "cell_type": "markdown",
      "source": [
        "## round()\n",
        "\n",
        "You can round up the result of a mathematical operation to a specific number of significant figures using round():"
      ],
      "metadata": {
        "id": "NOPU6jDlZEyO"
      }
    },
    {
      "cell_type": "code",
      "source": [
        "raw_average = (4+5+7/3)\n",
        "rounded_average=round(raw_average, 2)\n",
        "print(\"The raw average is:\", raw_average)\n",
        "print(\"The rounded average is:\", rounded_average)"
      ],
      "metadata": {
        "colab": {
          "base_uri": "https://localhost:8080/"
        },
        "id": "iiaA3sDMZD2Z",
        "outputId": "12b02218-f761-4d2f-b75e-c5ad448290e6"
      },
      "execution_count": null,
      "outputs": [
        {
          "output_type": "stream",
          "name": "stdout",
          "text": [
            "The raw average is: 11.333333333333334\n",
            "The rounded average is: 11.33\n"
          ]
        }
      ]
    },
    {
      "cell_type": "markdown",
      "source": [
        "## max()\n",
        "\n",
        "The max() function returns the highest ranked item in an iterable. Be careful not to confuse this with the most frequently occurring value, though."
      ],
      "metadata": {
        "id": "VlQPACYNa_Y9"
      }
    },
    {
      "cell_type": "code",
      "source": [
        "b = {1:\"grape\", 2:\"apple\", 3:\"applesss\", 4:\"zebra\", 5:\"mango\"}\n",
        "print(max(b.values()))\n",
        "\n",
        "\n",
        "a = [1, 65, 7, 9]\n",
        "print(max(a))"
      ],
      "metadata": {
        "colab": {
          "base_uri": "https://localhost:8080/"
        },
        "id": "MqKqs2noZFUs",
        "outputId": "4b98d21a-d0b9-4cf2-df01-5b3b8436a36c"
      },
      "execution_count": null,
      "outputs": [
        {
          "output_type": "stream",
          "name": "stdout",
          "text": [
            "zebra\n",
            "65\n"
          ]
        }
      ]
    },
    {
      "cell_type": "markdown",
      "source": [
        "## min()\n",
        "\n",
        "The min() function does the opposite of what max() does:"
      ],
      "metadata": {
        "id": "Uf8ONmyYbMU8"
      }
    },
    {
      "cell_type": "code",
      "source": [
        "fruits = [\"grape\", \"apple\", \"applesss\", \"zebra\", \"mango\"]\n",
        "b = {1:\"grape\", 2:\"apple\", 3:\"applesss\", 4:\"zebra\", 5:\"mango\"}\n",
        "\n",
        "a = [1, 65, 7, 9]\n",
        "\n",
        "print(min(a))\n",
        "print(min(b.values()))"
      ],
      "metadata": {
        "colab": {
          "base_uri": "https://localhost:8080/"
        },
        "id": "xlARg48hZFYD",
        "outputId": "11c3ef64-fc3a-445b-b91d-16d9e5d3bd3c"
      },
      "execution_count": null,
      "outputs": [
        {
          "output_type": "stream",
          "name": "stdout",
          "text": [
            "1\n",
            "apple\n"
          ]
        }
      ]
    },
    {
      "cell_type": "markdown",
      "source": [
        "##slice()\n",
        "\n",
        "Although the slice() function and the traditional slice method give similar outputs, using slice() in your code can make it more readable."
      ],
      "metadata": {
        "id": "fGGPiG6kcKtD"
      }
    },
    {
      "cell_type": "code",
      "source": [
        "b = [1, 3, 4, 6, 7, 10]\n",
        "st = \"Python tutorial\"\n",
        "\n",
        "sliceportion = slice(0, 4)\n",
        "\n",
        "print(b[sliceportion])\n",
        "print(st[sliceportion])"
      ],
      "metadata": {
        "colab": {
          "base_uri": "https://localhost:8080/"
        },
        "id": "kmhQZD29ZFbk",
        "outputId": "bd66aaf4-a62f-4433-dd10-aa1a5f9f38b1"
      },
      "execution_count": null,
      "outputs": [
        {
          "output_type": "stream",
          "name": "stdout",
          "text": [
            "[1, 3, 4, 6]\n",
            "Pyth\n"
          ]
        }
      ]
    },
    {
      "cell_type": "markdown",
      "source": [
        "##format()\n",
        "\n",
        "The format() method lets you manipulate your string output. Here's how it works:"
      ],
      "metadata": {
        "id": "MM4Xzn6kchKd"
      }
    },
    {
      "cell_type": "code",
      "source": [
        "multiple = 5*2\n",
        "multiple2 = 7*2\n",
        "a = \"{} is the multiple of 5 and 2, but {} is for 7 and 2\"\n",
        "a = a.format(multiple, multiple2)\n",
        "print(a)"
      ],
      "metadata": {
        "colab": {
          "base_uri": "https://localhost:8080/"
        },
        "id": "wI4Zb_J1ZFek",
        "outputId": "a0ed7ff3-e5b0-48aa-bc6d-befbb805eb2c"
      },
      "execution_count": null,
      "outputs": [
        {
          "output_type": "stream",
          "name": "stdout",
          "text": [
            "10 is the multiple of 5 and 2, but 14 is for 7 and 2\n"
          ]
        }
      ]
    },
    {
      "cell_type": "markdown",
      "source": [
        "##strip()\n",
        "\n",
        "Python's strip() removes leading characters from a string. It repeatedly removes the first character from the string, if it matches any of the supplied characters.\n",
        "\n",
        "If you don't specify a character, strip removes all leading whitespace characters from the string."
      ],
      "metadata": {
        "id": "7hNzCb2ycnty"
      }
    },
    {
      "cell_type": "code",
      "source": [
        "st = \" Python tutorial\"\n",
        "st = st.strip(\" P\")\n",
        "print(st)"
      ],
      "metadata": {
        "colab": {
          "base_uri": "https://localhost:8080/"
        },
        "id": "Zob5LbHfZFhe",
        "outputId": "9fabe7b7-a9c2-46b9-c1ff-631db5c0ae6a"
      },
      "execution_count": null,
      "outputs": [
        {
          "output_type": "stream",
          "name": "stdout",
          "text": [
            "ython tutorial\n"
          ]
        }
      ]
    },
    {
      "cell_type": "markdown",
      "source": [
        "##abs()\n",
        "\n",
        "Do you want to neutralize negative mathematical outputs? Then try out the abs() function. It can come in handy in computational programming or data science operations."
      ],
      "metadata": {
        "id": "hRBUEuilctT4"
      }
    },
    {
      "cell_type": "code",
      "source": [
        "neg = 4 - 9\n",
        "pos = abs(neg)\n",
        "print(pos)"
      ],
      "metadata": {
        "colab": {
          "base_uri": "https://localhost:8080/"
        },
        "id": "5XArilt0ckk6",
        "outputId": "9495d7cb-ff94-4152-d8a3-4c580c815cd8"
      },
      "execution_count": null,
      "outputs": [
        {
          "output_type": "stream",
          "name": "stdout",
          "text": [
            "5\n"
          ]
        }
      ]
    },
    {
      "cell_type": "markdown",
      "source": [
        "## upper()\n",
        "\n",
        "As the name implies, the upper() method converts string characters into their uppercase equivalent:"
      ],
      "metadata": {
        "id": "QD_t21JZc4OS"
      }
    },
    {
      "cell_type": "code",
      "source": [
        "y = \"Python tutorial\"\n",
        "y = y.upper()\n",
        "print(y)"
      ],
      "metadata": {
        "colab": {
          "base_uri": "https://localhost:8080/"
        },
        "id": "K5UXNYmHckq-",
        "outputId": "ecc0ac69-6af9-4d44-f573-c02a0b4616de"
      },
      "execution_count": null,
      "outputs": [
        {
          "output_type": "stream",
          "name": "stdout",
          "text": [
            "PYTHON TUTORIAL\n"
          ]
        }
      ]
    },
    {
      "cell_type": "markdown",
      "source": [
        "## lower()\n",
        "\n",
        "You guessed right! Python's lower() is the opposite of upper(). So it converts string characters to lowercases:"
      ],
      "metadata": {
        "id": "Sn7IA7s5c9rR"
      }
    },
    {
      "cell_type": "code",
      "source": [
        "y = \"PYTHON TUTORIAL\"\n",
        "y = y.lower()\n",
        "print(y)"
      ],
      "metadata": {
        "colab": {
          "base_uri": "https://localhost:8080/"
        },
        "id": "N8lnh790ckn9",
        "outputId": "0d91b1b8-31b3-461e-964a-706044227dfc"
      },
      "execution_count": null,
      "outputs": [
        {
          "output_type": "stream",
          "name": "stdout",
          "text": [
            "python tutorial\n"
          ]
        }
      ]
    },
    {
      "cell_type": "markdown",
      "source": [
        "## sorted()\n",
        "\n",
        "The sorted() function works by making a list from an iterable and then arranging its values in descending or ascending order:"
      ],
      "metadata": {
        "id": "EZWXCFatdCzJ"
      }
    },
    {
      "cell_type": "code",
      "source": [
        "f = {1, 4, 9, 3} # Try it on a set\n",
        "sort = {\"G\":8, \"A\":5, \"B\":9, \"F\":3} # Try it on a dictionary\n",
        "\n",
        "print(sorted(f, reverse=True)) # Descending\n",
        "print(sorted(sort.values())) # Ascending (default)"
      ],
      "metadata": {
        "colab": {
          "base_uri": "https://localhost:8080/"
        },
        "id": "pH6HB-SKckuA",
        "outputId": "dd5ef64f-ba9a-4689-c88f-24e823958413"
      },
      "execution_count": null,
      "outputs": [
        {
          "output_type": "stream",
          "name": "stdout",
          "text": [
            "[9, 4, 3, 1]\n",
            "[3, 5, 8, 9]\n"
          ]
        }
      ]
    },
    {
      "cell_type": "markdown",
      "source": [
        "## join()\n",
        "\n",
        "The join() function lets you merge string items in a list.\n",
        "\n",
        "You only need to specify a delimiter and the target list to use it:"
      ],
      "metadata": {
        "id": "5D6Kgph1dLuz"
      }
    },
    {
      "cell_type": "code",
      "source": [
        "a = [\"Python\", \"tutorial\", \"on\", \"MUO\"]\n",
        "a = \" \".join(a)\n",
        "print(a)"
      ],
      "metadata": {
        "colab": {
          "base_uri": "https://localhost:8080/"
        },
        "id": "nKNJdKRmckxV",
        "outputId": "e2eb6697-7f97-4ae4-95b7-f2ce62cf0b6b"
      },
      "execution_count": null,
      "outputs": [
        {
          "output_type": "stream",
          "name": "stdout",
          "text": [
            "Python tutorial on MUO\n"
          ]
        }
      ]
    },
    {
      "cell_type": "markdown",
      "source": [
        "## replace()\n",
        "\n",
        "Python's replace() method lets you replace some parts of a string with another character. It's often handy in data science, especially during data cleaning.\n",
        "\n",
        "The replace() method accepts two parameters: the replaced character and the one you'll like to replace it with."
      ],
      "metadata": {
        "id": "uesuq2uGdRJB"
      }
    },
    {
      "cell_type": "code",
      "source": [
        "columns = [\"Cart_name\", \"First_name\", \"Last_name\"]\n",
        "for i in columns:\n",
        " i = i.replace(\"_\", \" \")\n",
        " print(i)"
      ],
      "metadata": {
        "id": "Oy6OUJEVck0Z"
      },
      "execution_count": null,
      "outputs": []
    },
    {
      "cell_type": "markdown",
      "source": [
        "## isinstance\n",
        "\n",
        "The isinstance(object, classinfo) function returns True if the object argument is an instance of the classinfo argument. If not, the function returns False. If classinfo is a tuple of objects, the function returns True if object is an instance of any of them."
      ],
      "metadata": {
        "id": "bifIZrS4d6V-"
      }
    },
    {
      "cell_type": "code",
      "source": [
        "# check if an object is of type list\n",
        "\n",
        "numbers = [1, 2, 3, 4, 5]\n",
        "\n",
        "print(isinstance(numbers, type(list)))\n",
        "# True\n",
        "\n",
        "#print(isinstance(numbers, type(float)))\n",
        "# False\n",
        "#isinstance(numbers, (list, float))\n",
        "\n",
        "print(isinstance(numbers, (list, float)))\n",
        "# True"
      ],
      "metadata": {
        "colab": {
          "base_uri": "https://localhost:8080/"
        },
        "id": "Um6q5Lihck39",
        "outputId": "0c00d1d6-1781-49bd-d7ef-616edf12cedf"
      },
      "execution_count": 2,
      "outputs": [
        {
          "output_type": "stream",
          "name": "stdout",
          "text": [
            "False\n",
            "True\n"
          ]
        }
      ]
    },
    {
      "cell_type": "code",
      "source": [
        ""
      ],
      "metadata": {
        "id": "Jwi9uzJzck7I"
      },
      "execution_count": null,
      "outputs": []
    },
    {
      "cell_type": "code",
      "source": [
        ""
      ],
      "metadata": {
        "id": "PkZujCjHck-v"
      },
      "execution_count": null,
      "outputs": []
    },
    {
      "cell_type": "code",
      "source": [
        ""
      ],
      "metadata": {
        "id": "KsQfPqv9clE7"
      },
      "execution_count": null,
      "outputs": []
    },
    {
      "cell_type": "code",
      "source": [
        ""
      ],
      "metadata": {
        "id": "doF3IJ90clIn"
      },
      "execution_count": null,
      "outputs": []
    },
    {
      "cell_type": "code",
      "source": [
        ""
      ],
      "metadata": {
        "id": "wV4m5euTZFkZ"
      },
      "execution_count": null,
      "outputs": []
    },
    {
      "cell_type": "code",
      "source": [
        ""
      ],
      "metadata": {
        "id": "0U-Ys4zIZFpA"
      },
      "execution_count": null,
      "outputs": []
    },
    {
      "cell_type": "markdown",
      "source": [
        "#**Pandas Functions for Data Analysis and Manipulation**\n",
        "\n",
        "\n"
      ],
      "metadata": {
        "id": "apj6si2KhMrH"
      }
    },
    {
      "cell_type": "markdown",
      "source": [
        "https://towardsdatascience.com/11-simple-code-blocks-for-complete-exploratory-data-analysis-eda-67c2817f56cd\n",
        "\n",
        "\n",
        "\n",
        "https://medium.com/data-science-everywhere/explore-your-data-exploratory-data-analysis-8b54dfdfb898\n",
        "\n",
        "https://towardsdatascience.com/exploratory-data-analysis-in-python-c9a77dfa39ce\n",
        "\n",
        "https://towardsdatascience.com/a-starter-pack-to-exploratory-data-analysis-with-python-pandas-seaborn-and-scikit-learn-a77889485baf\n",
        "\n",
        "https://towardsdatascience.com/creating-python-functions-for-exploratory-data-analysis-and-data-cleaning-2c462961bd71\n",
        "\n",
        "https://medium.com/swlh/a-complete-guide-to-exploratory-data-analysis-and-data-cleaning-dd282925320f\n",
        "\n",
        "https://towardsdatascience.com/an-extensive-guide-to-exploratory-data-analysis-ddd99a03199e\n",
        "\n",
        "https://towardsdatascience.com/semi-automated-exploratory-data-analysis-eda-in-python-7f96042c9809\n",
        "\n",
        "https://towardsdatascience.com/a-gentle-introduction-to-exploratory-data-analysis-f11d843b8184\n",
        "\n",
        "\n",
        "https://towardsdatascience.com/exploratory-data-analysis-8fc1cb20fd15\n",
        "\n",
        "https://towardsdatascience.com/a-complete-exploratory-data-analysis-and-visualization-for-text-data-29fb1b96fb6a\n",
        "\n",
        "https://medium.com/open-machine-learning-course/open-machine-learning-course-topic-1-exploratory-data-analysis-with-pandas-de57880f1a68\n",
        "\n",
        "https://medium.com/search?q=Exploratory%20Data%20Analysis\n",
        "\n",
        "https://medium.com/@atanudan/exploratory-data-analysis-eda-in-python-893f963cc0c0\n",
        "\n",
        "https://www.analyticsvidhya.com/blog/2021/03/pandas-functions-for-data-analysis-and-manipulation/\n",
        "\n",
        "https://www.datacamp.com/community/blog/python-pandas-cheat-sheet\n",
        "\n"
      ],
      "metadata": {
        "id": "4lhypfSEaS_7"
      }
    },
    {
      "cell_type": "markdown",
      "source": [
        "#Upload dataset for google colab notebook\n",
        "    from google.colab import files\n",
        "    uploaded = files.upload()\n",
        "\n",
        "#To Reading/Loading the data to DataFrame file using Pandas\n",
        "\tdf = pd.read_csv(“HousingData.csv”)\n",
        "\tdf=pd.read_csv(\"nba.csv\", index_col =\"Name\")\n",
        "\n",
        "    missing_value_formats = [\"n.a.\",\"?\",\"NA\",\"n/a\", \"na\", \"--\"]\n",
        "    df = pd.read_csv(\"employees.csv\", na_values = missing_value_formats)\n",
        "\n",
        "## Read a .csv file to a dataframe with delimiter as space or tab:\n",
        "\tdf =  pd.read_csv('data.csv',  sep='\\s+', engine='python')\n",
        "## Read a .csv file to a dataframe with multiple delimiters :\n",
        "\tdf =  pd.read_csv('data.csv',  sep='[:,|_]', engine='python')\n",
        "\n",
        "#To known, how many data points do we have, what are the features available, what is my target variable,data type of each column along with how many non-null values we have.\n",
        "\tdf.info()\n",
        "\n",
        "We need run describe function on our data frame and it will give us some useful information like maximum, minimum, mean, standard deviation, etc which can help us better understand the numeric values in our data and how are they distributed over a column.\t\n",
        "\tdf.describe()//it will consider only numeric values\n",
        "\tdf.describe(include='all') // it will include all columns\n",
        "\tdf.describe().T// Result will get in Columns to Rows\n",
        "\tdf.describe(include=['object', 'bool'])\n",
        "\n",
        "#To Display first 7 observation from the data frame\n",
        "\tdf.head(7)\t\n",
        "\n",
        "#To Display last 7 observation from the data frame\n",
        "\tdf.tail(7)\n",
        "\n",
        "#To diaplay an observation chosen randomly from the dataset.\t\n",
        "\tdf.sample(5)\n",
        "\t\n",
        "#To kown about no of columns & rows present in the data set\t\n",
        "\tdf.shape\n",
        "\n",
        "#It results in a number of non null values in each column.\t\n",
        "\tdf.count()\n",
        "\n",
        "#To Check the data type\t\n",
        "\tdf.dtypes\n",
        "#To columns: As the name suggests, “columns” get the name of all the features/columns in our data frame.\n",
        "\tdf.columns\n",
        "#nsmallest() & nlargest(): So, as the name suggests, “nsmallest() & nlargest()” functions are used to obtain “n” no. of rows from our dataset which are lowest or highest respectively.\n",
        "\tdf.nsmallest(4, '<column name>')\n",
        "\tdf.nlargest(4, '<column name>')\n",
        "\n",
        "#To change the column type with the astype method\n",
        "\tdf['Churn'] = df['Churn'].astype('int64')\n",
        "\n",
        "#To see all the different object columns, I use the following code to return a list and inspect the data dictionary for a high level explanation of what these columns represent.\n",
        "\tdf.select_dtypes(include=['object']).columns\n",
        "\n",
        "#To Creating separate continuous and categorical dataframes\t\n",
        "\t## Create a dataframe with continuous columns \n",
        "\t\tdf_cont = df.select_dtypes(include = ['int64','float64'])\n",
        "\t## Create a dataframe with categorical columns \n",
        "\t\tdf_cat = df.select_dtypes(include =['object'])\t\n",
        "\n",
        "#To inspect my columns and confirm that the change is as expected:\n",
        "\tdf.columns\n",
        "\t\n",
        "#To rename the existing column name #To new column name for the given dataset.\n",
        "\tmap_old_to_new_column={'Id': 'id', 'PID': 'pid', 'MS SubClass': 'ms_subclass'}\n",
        "\tdf.rename(columns=map_old_to_new_column, inplace=True)\n",
        "\t\n",
        "\tdf.columns = [i.replace('-', '_').lower() for i in df.columns] \t\n",
        "\n",
        "\t\n",
        "#To get rid of just created columns \n",
        "\tdf.drop(['total charge', 'total calls'], axis=1, inplace=True) \n",
        "\n",
        "#To delete rows \n",
        "\tdf.drop([1, 2]).head()\n",
        "\n",
        "# Rows containing duplicate data\n",
        "\tduplicate_rows_df = df[df.duplicated()]\n",
        "\n",
        "# Dropping the duplicates \n",
        "\tdf = df.drop_duplicates()\n",
        "\tdf.head(5)\t\n",
        "\t\n",
        "#To Check the null values present in any of the rows\n",
        "\tdata.isnull().values.any()\n",
        "\n",
        "#To display only rows with at least 1 missing value, type the following:\n",
        "  df[df.isnull().any(axis=1)]\n",
        "\n",
        "#To Check the missing values\n",
        "\tdf.isnull().sum()\n",
        "\t\n",
        "#To Check the missing values\t\n",
        "\tmissing = (df.isnull().sum()/len(df)) * 100\n",
        "\tmissing = missing.drop(missing[missing == 0].index).sort_values(ascending=False)\n",
        "\tdfMissing = pd.DataFrame({'MissingPercentage':missing})\n",
        "\tdfMissing\n",
        "\t\n",
        "# Dropping the missing values.\n",
        "\tdf = df.dropna() \n",
        "\tdf.count()\t\n",
        "\n",
        "#To returns the unique values for the variable.\n",
        "\tdf.condition.unique()\n",
        "\n",
        "#np.where, #Since there is a large portion of missing values, the “body” field is transformed into either with_body = “Yes” and with_body = “No”, thus it can be easily analyzed as a categorical variable.\n",
        "\tdf['with_body'] = np.where(df['body'].isnull(), 'Yes', 'No')\n",
        "\n",
        "#timestamp→ month, #Since most data are gather from the year “2021”, there is no point comparing the year. Therefore I kept the month section of the “date”, which also helps to group data into larger subsets.\n",
        "\tdf['month'] = pd.to_datetime(df['timestamp']).dt.month.apply(str)\n",
        "\tdf['day'] = pd.to_datetime(df['timestamp']).dt.day.apply(str)\n",
        "\tdf['year'] = pd.to_datetime(df['timestamp']).dt.year.apply(str)\t\n",
        "\t\n",
        "#To returns the number of unique values for each variable.\n",
        "\tdf.nunique(axis=0)\t\n",
        "\t\n",
        "#To check different values present in \"status\" variable \n",
        "\tdf['status'].value_counts()\n",
        "\n",
        "#A DataFrame can be sorted by the value of one of the variables (i.e columns).\n",
        "\tdf.sort_values(by='#Total day charge', ascending=False).head()\n",
        "\t\n",
        "#To known the average values of numerical variables for churned users?\n",
        "\tdf[df['Churn'] == 1].mean()\t\n",
        "\n",
        "#To known How much time (on average) do churned users spend on phone during daytime?\n",
        "\tdf[df['Churn'] == 1]['#Total day minutes'].mean()\n",
        "\t\n",
        "#To kown, What is the maximum length of international calls among loyal users (Churn == 0) who do not have an international plan?\n",
        "\tdf[(df['Churn'] == 0) & (df['International plan'] == 'No')]['#Total intl minutes'].max()\t\n",
        "\n",
        "#DataFrames can be indexed by column name (label) or row name (index) or by the serial number of a row. The loc method is used for indexing by name, while iloc() is used for indexing by number.\n",
        "\t#.loc is primarily label based, but may also be used with a boolean array. .loc will raise KeyError when the items are not found. \n",
        "\t\n",
        "\t\tDataframe.loc[[:, [\"column1\", \"column2\", \"column3\"]]\n",
        "\t\tdf.loc[0:5, 'State':'Area code']\n",
        "\t\n",
        "\t#.iloc is primarily integer position based (from 0 to length-1 of the axis), but may also be used with a boolean array. .iloc will raise IndexError if a requested indexer is out-of-bounds, except slice indexers which allow out-of-bounds indexing. (this conforms with Python/NumPy slice semantics). Allowed inputs are:\n",
        "\n",
        "\t\tdf.iloc[0:5, 0:3]\n",
        "\t\t\n",
        "\t\t# retrieving multiple rows by iloc method \n",
        "\t\trow2 = data.iloc [[3, 5, 7]]\n",
        "\t\t\n",
        "\t\t# retrieving rows by iloc method \n",
        "\t\trow2 = data.iloc[3] \n",
        "\t\n",
        "\tdf[:1] or df[-1:]//If we need the first or last line of the data frame, \n",
        "\n",
        "\t#.ix() Besides pure label based and integer based, Pandas provides a hybrid method for selections and subsetting the object using the .ix() operator.\n",
        "\t\tdf.ix[:4]\n",
        "\t\tdf.ix[:,'A']\n",
        "\n",
        "#The query() Method, DataFrame objects have a query() method that allows selection using an expression. You can get the value of the frame where column b has values between the values of columns a and c.\n",
        "\t\tdf4.query('(a < b) & (b < c)') #a,b &c are column names\n",
        "\t\t\n",
        "#To apply functions to each column:\n",
        "\tdf.apply(np.max)\n",
        "\tdf[df['State'].apply(lambda state: state[0] == 'W')].head()#For example, if we need to select all states starting with W, we can do it like this\n",
        "\n",
        "#The map method can be used #To replace values in a column by passing a dictionary of the form {old_value: new_value} as its argument\n",
        "\td = {'No' : False, 'Yes' : True} \n",
        "\tdf['International plan'] = df['International plan'].map(d) \n",
        "\tdf.head()\n",
        "\t\n",
        "\t//Same thing can be done with the replace method:\n",
        "\tdf = df.replace({'Voice mail plan': d})\n",
        "\tdf.head()\n",
        "\t\n",
        "\t#3.8 Remove special characters from categorical columns\n",
        "\tdf.replace(to_replace=[\"?\", \";\"], value=np.nan)\n",
        "\t\n",
        "#To Group,In general, grouping data in Pandas goes as follows:\n",
        "\tdf.groupby(by=grouping_columns)[columns_#To_show].function()\t\n",
        "\t\n",
        "\tHere is an example where we group the data according to the values of the Churn variable and display statistics of three columns in each group:\n",
        "\t\tcolumns_to_show = ['total day minutes', 'total eve minutes', 'total night minutes']\n",
        "\t\tdf.groupby(['Churn'])[columns_to_show].describe(percentiles=[])\t\t\t\t\n",
        "\t\t\t\tOr\t\n",
        "\t\tdf.groupby(['Churn'])[columns_to_show].agg([np.mean, np.std, np.min, np.max])\n",
        "\t\t\n",
        "#Summary tables: Suppose we want to see how the observations in our sample are distributed in the context of two variables — Churn and International plan. to do so, we can build a contingency table using the crosstab method:\n",
        "\tpd.crosstab(df['Churn'], df['International plan'])\t\n",
        "\tpd.crosstab(df['Churn'], df['Voice mail plan'], normalize=True)\n",
        "\t\n",
        "#Pivot tables: \n",
        "\tdf.pivot_table(['total day calls', 'total eve calls', 'total night calls'], ['Area code'], aggfunc='mean')\n",
        "\t\n",
        "#To adding columns to a DataFrame is doable in several ways.\n",
        "\ttotal_calls = df['total day calls'] + df['total eve calls'] + \\ \n",
        "\t\t\t\t  df['total night calls'] + df['total intl calls'] \n",
        "\tdf.insert(loc=len(df.columns), column='total calls', value=total_calls) \n",
        "\tdf.head()\t\n",
        "\t\tOr\n",
        "\tIt is possible #To add a column more easily without creating an intermediate Series instance:\n",
        "\tdf['total charge'] = df['total day charge'] + df['total eve charge'] + \\ \n",
        "                     df['total night charge'] + df['total intl charge']\n",
        "\tdf.head()\n",
        "\t\n",
        "\t\n",
        "\t\n",
        "\t\n",
        "\t\n",
        "\t\n",
        "\t"
      ],
      "metadata": {
        "id": "FtHy_vNef7o5"
      }
    },
    {
      "cell_type": "markdown",
      "source": [
        "#A Guide to Handling Missing values in Python\n",
        "      1. Missing Completely at Random (MCAR)\n",
        "\n",
        "      The missing values on a given variable (Y) are not associated with other variables in a given data set or with the variable (Y) itself. In other words, there is no particular reason for the missing values.\n",
        "\n",
        "      2. Missing at Random (MAR)\n",
        "\n",
        "      MAR occurs when the missingness is not random, but where missingness can be fully accounted for by variables where there is complete information.\n",
        "\n",
        "      3. Missing Not at Random (MNAR)\n",
        "\n",
        "      Missingness depends on unobserved data or the value of the missing data itself.\n",
        "\n",
        "       Now let us look at nullity matrix again to see if can find what type of missingness is present in the dataset.\n",
        "\n",
        "#**Dealing With Missing Values in Python**\n",
        "\n",
        "##1. Deleting Missing data\n",
        "###A. Deleting the column/row with missing data\n",
        "\n",
        "          df.dropna(axis=1)\n",
        "          But this is an extreme case and should only be used when there are many null values in the column.\n",
        "          The problem with this method is that we may lose valuable information on that feature, as we have deleted it completely due to some null values.\n",
        "\n",
        "###B. Deleting the row with missing data\n",
        "          df.dropna(axis=1) or\n",
        "          df.drop(\"Survived\",axis=1,inplace=True)\n",
        "\n",
        "          If there is a certain row with missing data, then you can delete the entire row with all the features in that row.\n",
        "\n",
        "          axis=1 is used to drop the column with `NaN` values.\n",
        "          axis=0 is used to drop the row with `NaN` values.\n",
        "\n",
        "          In this case, see that we are able to achieve better accuracy than before. This is maybe because the column Age contains more valuable information than we expected.\n",
        "\n",
        "    **Pros:**\n",
        "    A model trained with the removal of all missing values creates a robust model.\n",
        "    **Cons:**\n",
        "    Loss of a lot of information.\n",
        "    Works poorly if the percentage of missing values is excessive in comparison to the complete dataset.\n",
        "\n",
        "##3. Filling the Missing Values – Imputation\n",
        "  we will be filling the missing values with a certain number.\n",
        "\n",
        "The possible ways to do this are:\n",
        "\n",
        "      Filling the missing data with the mean or median value if it’s a \n",
        "      numerical variable.\n",
        "      Filling the missing data with mode if it’s a categorical value.\n",
        "      Filling the numerical value with 0 or -999, or some other number that will not occur in the data. This can be done so that the machine can recognize that the data is not real or is different.\n",
        "      Filling the categorical value with a new type for the missing values.\n",
        "\n",
        "      df['Age'].fillna(updated_df['Age'].mean())\n",
        "\n",
        "##4. Imputation with an additional column\n",
        "    Use the SimpleImputer() function from sklearn module to impute the values.\n",
        "\n",
        "    Pass the strategy as an argument to the function. It can be either mean or mode or median.\n",
        "\n",
        "    The problem with the previous model is that the model does not know whether the values came from the original data or the imputed value. To make sure the model knows this, we are adding Ageismissing the column which will have True as value, if it is a null value and False if it is not a null value.  \n",
        "\n",
        "    updated_df = df\n",
        "    updated_df['Ageismissing'] = updated_df['Age'].isnull()\n",
        "\n",
        "    from sklearn.impute import SimpleImputer\n",
        "    my_imputer = SimpleImputer(strategy = 'median')\n",
        "    data_new = my_imputer.fit_transform(updated_df)\n",
        "    \n",
        "    updated_df.info()    \n",
        "\n",
        "##5. Filling with a Regression Model\n",
        "    In this case, the null values in one column are filled by fitting a regression model using other columns in the dataset.\n",
        "\n",
        "    I.E in this case the regression model will contain all the columns except Age in X and Age in Y.\n",
        "\n",
        "    Then after filling the values in the Age column, then we will use logistic regression to calculate accuracy.\n",
        "\n",
        "      from sklearn.linear_model import LinearRegression\n",
        "      lr = LinearRegression()\n",
        "      df.head()\n",
        "      testdf = df[df['Age'].isnull()==True]\n",
        "      traindf = df[df['Age'].isnull()==False]\n",
        "      y = traindf['Age']\n",
        "      traindf.drop(\"Age\",axis=1,inplace=True)\n",
        "      lr.fit(traindf,y)\n",
        "      testdf.drop(\"Age\",axis=1,inplace=True)\n",
        "      pred = lr.predict(testdf)\n",
        "      testdf['Age']= pred    \n",
        "      "
      ],
      "metadata": {
        "id": "yQhiS22okmSz"
      }
    },
    {
      "cell_type": "markdown",
      "source": [
        ""
      ],
      "metadata": {
        "id": "g5ibbmAmr0lN"
      }
    }
  ]
}